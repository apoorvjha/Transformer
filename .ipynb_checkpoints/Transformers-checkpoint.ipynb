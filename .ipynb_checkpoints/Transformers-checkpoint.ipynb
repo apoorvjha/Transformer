{
 "cells": [
  {
   "cell_type": "code",
   "execution_count": 3,
   "id": "8847cef2-a74f-4740-9206-c3f90ad65986",
   "metadata": {},
   "outputs": [],
   "source": [
    "import numpy as np\n",
    "import torch\n",
    "import torch.nn as nn\n",
    "import torch.nn.functional as F\n",
    "import matplotlib.pyplot as plt\n",
    "from torch.autograd import Variable\n",
    "import math, copy, time\n",
    "%matplotlib inline"
   ]
  },
  {
   "cell_type": "code",
   "execution_count": 2,
   "id": "0462b772-9225-48e1-a7d2-711062b645e9",
   "metadata": {},
   "outputs": [],
   "source": [
    "class EncoderDecoder(nn.Module):\n",
    "    def __init__(self, encoder, decoder, source_embedding, target_embedding, generator):\n",
    "        super(EncoderDecoder, self).__init__()\n",
    "        self.encoder = encoder\n",
    "        self.decoder = decoder\n",
    "        self.source_embedding = source_embedding\n",
    "        self.target_embedding = target_embedding\n",
    "        self.generator = generator\n",
    "    def forward(self, x, source_mask, target_mask, source, target):\n",
    "        return self.decode(self.encode(source, source_mask), source_mask, target, target_mask)\n",
    "    def encode(self,source, source_mask):\n",
    "        return self.encoder(self.source_embedding(source), source_mask)\n",
    "    def decode(self, encoder_output, source_mask, target, target_mask):\n",
    "        return self.decoder(self.target_embedding(target), encoder_output, source_mask, target_mask)"
   ]
  },
  {
   "cell_type": "code",
   "execution_count": 4,
   "id": "aa85dd06-1b01-495b-bb10-f6de70eb453b",
   "metadata": {},
   "outputs": [],
   "source": [
    "class Generator(nn.Module):\n",
    "    def __init__(self, d_model, vocab):\n",
    "        super(Generator, self).__init__()\n",
    "        self.projection = nn.Linear(d_model, vocab)\n",
    "    def forward(self, x):\n",
    "        return F.log_softmax(self.projection(x), dim = -1)"
   ]
  },
  {
   "cell_type": "code",
   "execution_count": 5,
   "id": "59d25155-8935-4c31-9d1a-deb5406dc6d4",
   "metadata": {},
   "outputs": [],
   "source": [
    "def clones(module, N):\n",
    "    return nn.ModuleList([copy.deepcopy(module) for _ in range(N)])"
   ]
  },
  {
   "cell_type": "code",
   "execution_count": 6,
   "id": "87b626a4-e293-4580-9ab1-45b32181082d",
   "metadata": {},
   "outputs": [],
   "source": [
    "class Encoder(nn.Module):\n",
    "    def __init__(self, layer, N):\n",
    "        super(Encoder, self).__init__()\n",
    "        self.layers = clones(layer, N)\n",
    "        self.norm = LayerNorm(layer.size)\n",
    "    def forward(self, x, mask):\n",
    "        for layer in self.layers:\n",
    "            x = layer(x, mask)\n",
    "        return self.norm(x)"
   ]
  },
  {
   "cell_type": "code",
   "execution_count": 7,
   "id": "e918a37e-b4f9-4b17-9c27-e9775b523760",
   "metadata": {},
   "outputs": [],
   "source": [
    "class LayerNorm(nn.Module):\n",
    "    def __init__(self, features, eps = 1e-6):\n",
    "        super(LayerNorm, self).__init__()\n",
    "        self.a2 = nn.Parameter(torch.ones(features))\n",
    "        self.b2 = nn.Parameter(torch.zeros(features))\n",
    "        self.eps = eps\n",
    "    def forward(self, x):\n",
    "        mean = x.mean(-1, keepdim = True)\n",
    "        std = x.std(-1, keepdim = True)\n",
    "        return self.a2 * (x - mean) / (self.eps + std) + self.b2"
   ]
  },
  {
   "cell_type": "code",
   "execution_count": null,
   "id": "5ce39a5b-7540-4805-befe-855ca5974b6e",
   "metadata": {},
   "outputs": [],
   "source": []
  }
 ],
 "metadata": {
  "kernelspec": {
   "display_name": "Python 3 (ipykernel)",
   "language": "python",
   "name": "python3"
  },
  "language_info": {
   "codemirror_mode": {
    "name": "ipython",
    "version": 3
   },
   "file_extension": ".py",
   "mimetype": "text/x-python",
   "name": "python",
   "nbconvert_exporter": "python",
   "pygments_lexer": "ipython3",
   "version": "3.11.5"
  }
 },
 "nbformat": 4,
 "nbformat_minor": 5
}
